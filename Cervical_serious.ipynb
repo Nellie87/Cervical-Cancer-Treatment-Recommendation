{
  "nbformat": 4,
  "nbformat_minor": 0,
  "metadata": {
    "colab": {
      "provenance": [],
      "authorship_tag": "ABX9TyPQLkB/8N6NHke3PFcFcmby",
      "include_colab_link": true
    },
    "kernelspec": {
      "name": "python3",
      "display_name": "Python 3"
    },
    "language_info": {
      "name": "python"
    }
  },
  "cells": [
    {
      "cell_type": "markdown",
      "metadata": {
        "id": "view-in-github",
        "colab_type": "text"
      },
      "source": [
        "<a href=\"https://colab.research.google.com/github/Nellie87/Cervical-Cancer-Treatment-Recommendation/blob/master/Cervical_serious.ipynb\" target=\"_parent\"><img src=\"https://colab.research.google.com/assets/colab-badge.svg\" alt=\"Open In Colab\"/></a>"
      ]
    },
    {
      "cell_type": "markdown",
      "source": [
        "# Library and file part\n"
      ],
      "metadata": {
        "id": "EuhmupmousTJ"
      }
    },
    {
      "cell_type": "markdown",
      "source": [
        "Libraries"
      ],
      "metadata": {
        "id": "BIz3FVgAubME"
      }
    },
    {
      "cell_type": "code",
      "source": [
        "import pandas as pd\n",
        "import numpy as np\n",
        "import dask.dataframe as dd\n",
        "from google.colab import drive\n",
        "from google.colab import files\n",
        "import gc\n",
        "import os"
      ],
      "metadata": {
        "id": "1-sfN7PC_BgO"
      },
      "execution_count": 2,
      "outputs": []
    },
    {
      "cell_type": "code",
      "source": [
        "# Step 1: Install required libraries\n",
        "!pip install openpyxl dask"
      ],
      "metadata": {
        "colab": {
          "base_uri": "https://localhost:8080/"
        },
        "id": "xsrYDFYDBpYH",
        "outputId": "03c8b87a-d231-48f2-8078-99862d692c5d"
      },
      "execution_count": 3,
      "outputs": [
        {
          "output_type": "stream",
          "name": "stdout",
          "text": [
            "Requirement already satisfied: openpyxl in /usr/local/lib/python3.11/dist-packages (3.1.5)\n",
            "Requirement already satisfied: dask in /usr/local/lib/python3.11/dist-packages (2025.5.0)\n",
            "Requirement already satisfied: et-xmlfile in /usr/local/lib/python3.11/dist-packages (from openpyxl) (2.0.0)\n",
            "Requirement already satisfied: click>=8.1 in /usr/local/lib/python3.11/dist-packages (from dask) (8.2.1)\n",
            "Requirement already satisfied: cloudpickle>=3.0.0 in /usr/local/lib/python3.11/dist-packages (from dask) (3.1.1)\n",
            "Requirement already satisfied: fsspec>=2021.09.0 in /usr/local/lib/python3.11/dist-packages (from dask) (2025.3.0)\n",
            "Requirement already satisfied: packaging>=20.0 in /usr/local/lib/python3.11/dist-packages (from dask) (25.0)\n",
            "Requirement already satisfied: partd>=1.4.0 in /usr/local/lib/python3.11/dist-packages (from dask) (1.4.2)\n",
            "Requirement already satisfied: pyyaml>=5.3.1 in /usr/local/lib/python3.11/dist-packages (from dask) (6.0.2)\n",
            "Requirement already satisfied: toolz>=0.10.0 in /usr/local/lib/python3.11/dist-packages (from dask) (0.12.1)\n",
            "Requirement already satisfied: importlib_metadata>=4.13.0 in /usr/local/lib/python3.11/dist-packages (from dask) (8.7.0)\n",
            "Requirement already satisfied: zipp>=3.20 in /usr/local/lib/python3.11/dist-packages (from importlib_metadata>=4.13.0->dask) (3.23.0)\n",
            "Requirement already satisfied: locket in /usr/local/lib/python3.11/dist-packages (from partd>=1.4.0->dask) (1.0.0)\n"
          ]
        }
      ]
    },
    {
      "cell_type": "markdown",
      "source": [
        "Mount file"
      ],
      "metadata": {
        "id": "spbKon5vukkB"
      }
    },
    {
      "cell_type": "code",
      "source": [
        "# Step 2: Mount Google Drive\n",
        "drive.mount('/content/drive', force_remount=True)\n",
        "\n",
        "# Step 3: Verify file existence\n",
        "data_path = '/content/drive/MyDrive/Hackathon/Cervical.xlsx'\n",
        "if not os.path.exists(data_path):\n",
        "    raise FileNotFoundError(f\"File not found at {data_path}. Please check the path or upload the file.\")"
      ],
      "metadata": {
        "colab": {
          "base_uri": "https://localhost:8080/"
        },
        "id": "9D361qeHuBxu",
        "outputId": "c71f89c1-2732-48d1-8d5a-47469c5823c1"
      },
      "execution_count": 5,
      "outputs": [
        {
          "output_type": "stream",
          "name": "stdout",
          "text": [
            "Mounted at /content/drive\n"
          ]
        }
      ]
    },
    {
      "cell_type": "markdown",
      "source": [
        "# Dataset cleaning"
      ],
      "metadata": {
        "id": "SHLV_E5d4giM"
      }
    },
    {
      "cell_type": "markdown",
      "source": [
        "Some errors in the dataset, hence need for cleaning included:\n",
        "1. Removing extra whitespaces in HPV Test Result\n",
        "2. Typos such as 'COLOSCOPY BIOSY' instead of 'COLPOSCOPY BIOPSY'\n",
        "3. Converts numerical columns (Age, Sexual Partners, First Sexual Activity Age) to integers for consistency.\n",
        "4. Removing outliers in the age\n",
        "5. Biopsy Typo"
      ],
      "metadata": {
        "id": "mFW8w1wd4oj8"
      }
    },
    {
      "cell_type": "markdown",
      "source": [
        "Regular expression module — it’s what lets us do pattern-based text matching and replacement instead of just exact string matches."
      ],
      "metadata": {
        "id": "s798kdV1baNH"
      }
    },
    {
      "cell_type": "code",
      "source": [
        "import re"
      ],
      "metadata": {
        "id": "AHlyKs0qbXWv"
      },
      "execution_count": 9,
      "outputs": []
    },
    {
      "cell_type": "code",
      "source": [
        "# Step 4: Load Excel file\n",
        "try:\n",
        "    data = pd.read_excel(data_path, engine='openpyxl')\n",
        "except Exception as e:\n",
        "    print(f\"Error loading Excel file: {e}\")\n",
        "    print(\"If this is a CSV, try pd.read_csv() with appropriate encoding (e.g., encoding='latin1').\")\n",
        "    raise\n",
        "\n",
        "# Step 5: Inspect and drop empty or irrelevant columns (e.g., Unnamed: 12)\n",
        "print(\"Columns before dropping:\", data.columns)\n",
        "# Check contents of Unnamed: 12\n",
        "if 'Unnamed: 12' in data.columns:\n",
        "    print(\"Unique values in Unnamed: 12:\", data['Unnamed: 12'].unique())\n",
        "    # Drop if mostly empty or irrelevant\n",
        "    if data['Unnamed: 12'].isna().sum() > 0.9 * len(data) or data['Unnamed: 12'].astype(str).str.strip().eq('').sum() > 0.9 * len(data):\n",
        "        data = data.drop(columns=['Unnamed: 12'])\n",
        "        print(\"Dropped Unnamed: 12 as it’s mostly empty or irrelevant.\")"
      ],
      "metadata": {
        "colab": {
          "base_uri": "https://localhost:8080/"
        },
        "id": "5iFBs3OobVFb",
        "outputId": "93b73794-fb73-46f0-bda3-53b905f999db"
      },
      "execution_count": 10,
      "outputs": [
        {
          "output_type": "stream",
          "name": "stdout",
          "text": [
            "Columns before dropping: Index(['Patient ID', 'Age', 'Sexual Partners', 'First Sexual Activity Age',\n",
            "       'HPV Test Result', 'Pap Smear Result', 'Smoking Status', 'STDs History',\n",
            "       'Region', 'Insrance Covered', 'Screening Type Last',\n",
            "       'Recommended Action', 'Unnamed: 12'],\n",
            "      dtype='object')\n",
            "Unique values in Unnamed: 12: [nan ' ']\n",
            "Dropped Unnamed: 12 as it’s mostly empty or irrelevant.\n"
          ]
        }
      ]
    },
    {
      "cell_type": "code",
      "source": [
        "# Step 1: Load CSV with Dask first (important!)\n",
        "try:\n",
        "    data = dd.read_csv(\n",
        "        csv_path,\n",
        "        dtype={'Unnamed: 12': 'object'}  # Avoid dtype issues\n",
        "    ).compute()\n",
        "except Exception as e:\n",
        "    print(f\"Error loading CSV with Dask: {e}\")\n",
        "    raise\n",
        "\n",
        "# Step 2: Define known typo corrections with regex patterns\n",
        "typo_patterns = {\n",
        "    r'\\bCOLOSCOPY\\b': 'COLPOSCOPY',\n",
        "    r'\\bCOLPOSOCPY\\b': 'COLPOSCOPY',\n",
        "    r'\\bCOLPOSCPY\\b': 'COLPOSCOPY',\n",
        "    r'\\bCOLPOSCOPY\\b': 'COLPOSCOPY',  # already correct, ensures case matching\n",
        "    r'\\bBIOSY\\b': 'BIOPSY',\n",
        "    r'\\bBIOSPY\\b': 'BIOPSY',\n",
        "    r'\\bBIOPCY\\b': 'BIOPSY',\n",
        "    r'\\bANUAL\\b': 'ANNUAL',\n",
        "    r'\\bYEARS\\b': 'YEARS',  # keep correct form\n",
        "    r'\\b3YEARS\\b': '3 YEARS',\n",
        "    r'\\bFORCOLPOSCOPY\\b': 'FOR COLPOSCOPY',\n",
        "}\n",
        "\n",
        "def clean_recommended_action(text):\n",
        "    if pd.isna(text):\n",
        "        return text\n",
        "    text = text.upper().strip()\n",
        "    for pattern, correct in typo_patterns.items():\n",
        "        text = re.sub(pattern, correct, text)\n",
        "    return text\n",
        "\n",
        "# Step 3: Apply cleaning AFTER loading data\n",
        "if 'Recommended Action' in data.columns:\n",
        "    data['Recommended Action'] = data['Recommended Action'].astype(str).replace({'NAN': np.nan})\n",
        "    data['Recommended Action'] = data['Recommended Action'].apply(clean_recommended_action)\n",
        "\n",
        "# Debug preview\n",
        "print(\"Unique Recommended Actions after smart correction:\")\n",
        "print(data['Recommended Action'].unique())\n",
        "\n",
        "# Step 4: Optimize data types\n",
        "data['Age'] = data['Age'].astype('int32', errors='ignore')\n",
        "data['Sexual Partners'] = data['Sexual Partners'].astype('int32', errors='ignore')\n",
        "data['First Sexual Activity Age'] = data['First Sexual Activity Age'].astype('int32', errors='ignore')\n",
        "for col in ['HPV Test Result', 'Pap Smear Result', 'Smoking Status', 'STDs History', 'Insurance Covered', 'Region', 'Screening Type Last', 'Recommended Action']:\n",
        "    if col in data.columns:\n",
        "        data[col] = data[col].astype('category')\n",
        "\n",
        "print(\"Memory usage after type optimization:\", data.memory_usage(deep=True).sum() / 1024**2, \"MB\")\n",
        "\n",
        "# Step 5: Clean \"HPV Test Result\"\n",
        "if 'HPV Test Result' in data.columns:\n",
        "    data['HPV Test Result'] = data['HPV Test Result'].astype(str).str.strip().str.upper()\n",
        "    data['HPV Test Result'] = data['HPV Test Result'].replace('\"POSITIVE\\\\n\"', 'POSITIVE')\n",
        "    data['HPV Test Result'] = data['HPV Test Result'].replace({'POSITIVE': 'POSITIVE', 'NEGATIVE': 'NEGATIVE', 'NAN': np.nan})\n",
        "    print(\"Unique HPV Test Results:\", data['HPV Test Result'].unique())\n",
        "\n",
        "# Step 6: Handle unrealistic values in \"First Sexual Activity Age\"\n",
        "if 'First Sexual Activity Age' in data.columns:\n",
        "    unrealistic_low = data['First Sexual Activity Age'] < 10\n",
        "    unrealistic_high = data['First Sexual Activity Age'] > 50\n",
        "    print(f\"Unrealistic low ages (<10): {unrealistic_low.sum()} rows\")\n",
        "    print(f\"Unrealistic high ages (>50): {unrealistic_high.sum()} rows\")\n",
        "    median_age = data[(data['First Sexual Activity Age'] >= 10) & (data['First Sexual Activity Age'] <= 50)]['First Sexual Activity Age'].median()\n",
        "    data.loc[unrealistic_low | unrealistic_high, 'First Sexual Activity Age'] = median_age\n",
        "    print(f\"Imputed unrealistic ages with median: {median_age}\")\n",
        "\n",
        "# Step 7: Handle missing values\n",
        "missing_counts = data.isnull().sum()\n",
        "print(\"Missing values per column:\\n\", missing_counts)\n",
        "for col in ['Age', 'Sexual Partners', 'First Sexual Activity Age']:\n",
        "    if col in data.columns and missing_counts[col] > 0:\n",
        "        data[col] = data[col].fillna(data[col].median())\n",
        "for col in ['HPV Test Result', 'Pap Smear Result', 'Smoking Status', 'STDs History', 'Insurance Covered', 'Region', 'Screening Type Last']:\n",
        "    if col in data.columns and missing_counts[col] > 0:\n",
        "        data[col] = data[col].fillna(data[col].mode().iloc[0])\n",
        "if 'Recommended Action' in data.columns and missing_counts['Recommended Action'] > 0:\n",
        "    data = data.dropna(subset=['Recommended Action'])\n",
        "\n",
        "# Step 8: Standardize categorical columns\n",
        "binary_cols = ['Pap Smear Result', 'Smoking Status', 'STDs History', 'Insurance Covered']\n",
        "for col in binary_cols:\n",
        "    if col in data.columns:\n",
        "        data[col] = data[col].astype(str).str.strip().str.upper()\n",
        "        if not data[col].isin(['Y', 'N', 'nan']).all():\n",
        "            print(f\"Warning: Non-standard values in {col}: {data[col].unique()}\")\n",
        "if 'Region' in data.columns:\n",
        "    data['Region'] = data['Region'].astype(str).str.strip().str.title()\n",
        "if 'Screening Type Last' in data.columns:\n",
        "    data['Screening Type Last'] = data['Screening Type Last'].astype(str).str.strip().str.upper()\n",
        "print(\"Unique Regions:\", data['Region'].unique() if 'Region' in data.columns else \"Region column not found\")\n",
        "print(\"Unique Screening Types:\", data['Screening Type Last'].unique() if 'Screening Type Last' in data.columns else \"Screening Type Last column not found\")\n",
        "\n",
        "# Step 9: Drop unnecessary columns\n",
        "data = data.drop(columns=['Patient ID', 'Unnamed: 12'], errors='ignore')\n",
        "print(\"Columns after dropping:\", data.columns)\n",
        "\n",
        "# Step 10: Save cleaned dataset\n",
        "cleaned_path = '/content/drive/MyDrive/Hackathon/cleaned_cervical_cancer_dataset.csv'\n",
        "data.to_csv(cleaned_path, index=False)\n",
        "print(f\"Cleaned dataset saved to: {cleaned_path}\")\n",
        "\n",
        "# Step 11: Download file\n",
        "files.download(cleaned_path)\n",
        "\n",
        "# Step 12: Free memory\n",
        "del data\n",
        "gc.collect()"
      ],
      "metadata": {
        "id": "kkQtCPnwTDdN",
        "outputId": "b1bc0383-33fe-4f64-8acc-37c225cf987f",
        "colab": {
          "base_uri": "https://localhost:8080/",
          "height": 781
        }
      },
      "execution_count": 12,
      "outputs": [
        {
          "output_type": "stream",
          "name": "stdout",
          "text": [
            "Unique Recommended Actions after smart correction:\n",
            "['REPEAT PAP SMEAR IN 3 YEARS AND FOR HPV VACCINE'\n",
            " 'FOR HPV VACCINE AND SEXUAL EDUCATION'\n",
            " 'FOR HPV VACCINE, LIFESTYLE AND SEXUAL EDUCATION'\n",
            " 'FOR COLPOSCOPY CYTOLOGY AND BIOPSY' 'REPEAT PAP SMEAR IN 3 YEARS'\n",
            " 'FOR COLPOSCOPY BIOPSY, CYTOLOGY+/- TAH'\n",
            " 'FOR BIOPSY AND CYTOLOGY WITH TAH NOT RECOMMENDED'\n",
            " 'FOR COLPOSCOPY BIOPSY, CYTOLOGY'\n",
            " 'FOR ANNUAL FOLLOW UP AND PAP SMEAR IN 3 YEARS' 'FOR PAP SMEAR'\n",
            " 'FOR COLPOSCOPY BIOPSY, CYTOLOGY +/- TAH' 'FOR LASER THERAPY'\n",
            " 'FOR HPV VACCINATION AND SEXUAL EDUCATION'\n",
            " 'FOR COLPOSCOPY, CYTOLOGY THEN LASER THERAPY'\n",
            " 'FOR COLPOSCOPY BIOPSY, CYTOLOGY WITH TAH NOT RECOMMENDED'\n",
            " 'FOR REPEAT HPV TESTING ANNUALLY AND PAP SMEAR IN 3 YEARS'\n",
            " 'FOR COLPOSCOPY BIOPSY, CYTOLOGY +/-TAH']\n",
            "Memory usage after type optimization: 0.007657051086425781 MB\n",
            "Unique HPV Test Results: ['NEGATIVE' 'POSITIVE' 'NEGAGTIVE']\n",
            "Unrealistic low ages (<10): 2 rows\n",
            "Unrealistic high ages (>50): 1 rows\n",
            "Imputed unrealistic ages with median: 18.0\n",
            "Missing values per column:\n",
            " Patient ID                   0\n",
            "Age                          0\n",
            "Sexual Partners              0\n",
            "First Sexual Activity Age    0\n",
            "HPV Test Result              0\n",
            "Pap Smear Result             0\n",
            "Smoking Status               0\n",
            "STDs History                 0\n",
            "Region                       0\n",
            "Insrance Covered             0\n",
            "Screening Type Last          0\n",
            "Recommended Action           0\n",
            "dtype: int64\n",
            "Unique Regions: ['Pumwani' 'Kakamega' 'Machakos' 'Embu' 'Mombasa' 'Nakuru' 'Loitoktok'\n",
            " 'Moi' 'Garissa' 'Kitale' 'Kericho']\n",
            "Unique Screening Types: ['PAP SMEAR' 'HPV DNA' 'VIA']\n",
            "Columns after dropping: Index(['Age', 'Sexual Partners', 'First Sexual Activity Age',\n",
            "       'HPV Test Result', 'Pap Smear Result', 'Smoking Status', 'STDs History',\n",
            "       'Region', 'Insrance Covered', 'Screening Type Last',\n",
            "       'Recommended Action'],\n",
            "      dtype='object')\n",
            "Cleaned dataset saved to: /content/drive/MyDrive/Hackathon/cleaned_cervical_cancer_dataset.csv\n"
          ]
        },
        {
          "output_type": "display_data",
          "data": {
            "text/plain": [
              "<IPython.core.display.Javascript object>"
            ],
            "application/javascript": [
              "\n",
              "    async function download(id, filename, size) {\n",
              "      if (!google.colab.kernel.accessAllowed) {\n",
              "        return;\n",
              "      }\n",
              "      const div = document.createElement('div');\n",
              "      const label = document.createElement('label');\n",
              "      label.textContent = `Downloading \"${filename}\": `;\n",
              "      div.appendChild(label);\n",
              "      const progress = document.createElement('progress');\n",
              "      progress.max = size;\n",
              "      div.appendChild(progress);\n",
              "      document.body.appendChild(div);\n",
              "\n",
              "      const buffers = [];\n",
              "      let downloaded = 0;\n",
              "\n",
              "      const channel = await google.colab.kernel.comms.open(id);\n",
              "      // Send a message to notify the kernel that we're ready.\n",
              "      channel.send({})\n",
              "\n",
              "      for await (const message of channel.messages) {\n",
              "        // Send a message to notify the kernel that we're ready.\n",
              "        channel.send({})\n",
              "        if (message.buffers) {\n",
              "          for (const buffer of message.buffers) {\n",
              "            buffers.push(buffer);\n",
              "            downloaded += buffer.byteLength;\n",
              "            progress.value = downloaded;\n",
              "          }\n",
              "        }\n",
              "      }\n",
              "      const blob = new Blob(buffers, {type: 'application/binary'});\n",
              "      const a = document.createElement('a');\n",
              "      a.href = window.URL.createObjectURL(blob);\n",
              "      a.download = filename;\n",
              "      div.appendChild(a);\n",
              "      a.click();\n",
              "      div.remove();\n",
              "    }\n",
              "  "
            ]
          },
          "metadata": {}
        },
        {
          "output_type": "display_data",
          "data": {
            "text/plain": [
              "<IPython.core.display.Javascript object>"
            ],
            "application/javascript": [
              "download(\"download_b692c65e-42a1-41b1-9eac-24b91f4e8a4e\", \"cleaned_cervical_cancer_dataset.csv\", 7513)"
            ]
          },
          "metadata": {}
        },
        {
          "output_type": "execute_result",
          "data": {
            "text/plain": [
              "227"
            ]
          },
          "metadata": {},
          "execution_count": 12
        }
      ]
    }
  ]
}